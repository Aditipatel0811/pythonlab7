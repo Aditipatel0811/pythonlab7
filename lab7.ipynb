{
 "cells": [
  {
   "cell_type": "markdown",
   "metadata": {},
   "source": [
    "Q1. Create two 3×3 matrices using the random function in Numpy and perform the following operations.\n",
    "è Product (prod)\n",
    "è Multiplication (multiply)\n",
    "è Dot Product (dot)\n"
   ]
  },
  {
   "cell_type": "code",
   "execution_count": 10,
   "metadata": {},
   "outputs": [
    {
     "name": "stdout",
     "output_type": "stream",
     "text": [
      "[[0 9 1]\n",
      " [5 2 9]\n",
      " [3 8 0]]\n",
      "[[9 4 2]\n",
      " [9 2 4]\n",
      " [2 2 5]]\n",
      "[[83 20 41]\n",
      " [81 42 63]\n",
      " [99 28 38]]\n",
      "[[ 0 36  2]\n",
      " [45  4 36]\n",
      " [ 6 16  0]]\n",
      "[    0 10368     0]\n"
     ]
    }
   ],
   "source": [
    "import numpy as np\n",
    "  \n",
    "# 1st argument --> numbers ranging from 0 to 9, \n",
    "# 2nd argument, row = 2, col = 3\n",
    "array1 = np.random.randint(10, size=(3, 3))\n",
    "array2 = np.random.randint(10, size=(3, 3))\n",
    "res = np.dot(array1,array2)\n",
    "mul= array1* array2\n",
    "prod=np.prod(array1,axis=0) * np.prod(array2,axis=1)\n",
    "print(array1)\n",
    "print(array2)\n",
    "print(res)\n",
    "print(mul)\n",
    "print(prod)"
   ]
  },
  {
   "cell_type": "markdown",
   "metadata": {},
   "source": [
    "Q2. Perform the following set operations using the Numpy functions.\n",
    "è Union\n",
    "è Intersection\n",
    "è Set difference\n",
    "è XOR\n"
   ]
  },
  {
   "cell_type": "code",
   "execution_count": 28,
   "metadata": {},
   "outputs": [
    {
     "name": "stdout",
     "output_type": "stream",
     "text": [
      "union: [0 1 2 3 5]\n",
      "intersection: [3]\n",
      "set difference: [1 5]\n",
      "xor: [0 1 2 5]\n"
     ]
    }
   ],
   "source": [
    "import numpy as np\n",
    "\n",
    "A = np.array([1, 3, 5])\n",
    "B = np.array([0, 2, 3])\n",
    "\n",
    "union=np.union1d(A,B)\n",
    "print(\"union:\",union)\n",
    "\n",
    "intersection=np.intersect1d(A,B)\n",
    "print(\"intersection:\",intersection)\n",
    "\n",
    "set_diff=np.setdiff1d(A,B)\n",
    "print(\"set difference:\",set_diff)\n",
    "\n",
    "xor=np.setxor1d(A,B)\n",
    "print(\"xor:\",xor)"
   ]
  },
  {
   "cell_type": "markdown",
   "metadata": {},
   "source": [
    "Q3. Create a 1D array using Random function and perform the following operations.\n",
    "è Cumulative sum\n",
    "è Cumulative Product\n",
    "è Discrete difference (with n=3)\n",
    "è Find the unique elements from the array\n"
   ]
  },
  {
   "cell_type": "code",
   "execution_count": 29,
   "metadata": {},
   "outputs": [
    {
     "name": "stdout",
     "output_type": "stream",
     "text": [
      "[2 8 1 3 7 3 9 0 7 8]\n",
      "[ 2 10 11 14 21 24 33 33 40 48]\n",
      "[   2   16   16   48  336 1008 9072    0    0    0]\n",
      "[ 22  -7 -10  18 -25  31 -22]\n",
      "[0 1 2 3 7 8 9]\n"
     ]
    }
   ],
   "source": [
    "import numpy as np\n",
    "\n",
    "array=np.random.randint(10,size=10)\n",
    "\n",
    "print(array)\n",
    "\n",
    "cumulativesum=np.cumsum(array)\n",
    "print(cumulativesum)\n",
    "\n",
    "product=np.cumprod(array)\n",
    "print(product)\n",
    "\n",
    "difference=np.diff(array, n=3)\n",
    "print(difference)\n",
    "\n",
    "unique=np.unique(array)\n",
    "print(unique)"
   ]
  },
  {
   "cell_type": "markdown",
   "metadata": {},
   "source": [
    "Q4. Create two 1D array and perform the Addition using zip(), add() and user defined function (frompyfunc())\n"
   ]
  },
  {
   "cell_type": "code",
   "execution_count": 30,
   "metadata": {},
   "outputs": [
    {
     "name": "stdout",
     "output_type": "stream",
     "text": [
      "Array 1: [1 2 3 4 5]\n",
      "Array 2: [10 20 30 40 50]\n",
      "\n",
      "Addition using zip(): [11 22 33 44 55]\n",
      "Addition using np.add(): [11 22 33 44 55]\n",
      "Addition using user-defined function: [11 22 33 44 55]\n"
     ]
    }
   ],
   "source": [
    "import numpy as np\n",
    "\n",
    "array1 = np.array([1, 2, 3, 4, 5])\n",
    "array2 = np.array([10, 20, 30, 40, 50])\n",
    "\n",
    "result_zip = np.array([a + b for a, b in zip(array1, array2)])\n",
    "\n",
    "result_np_add = np.add(array1, array2)\n",
    "\n",
    "def user_defined_add(x, y):\n",
    "    return x + y\n",
    "\n",
    "ufunc = np.frompyfunc(user_defined_add, 2, 1)\n",
    "\n",
    "result_user_defined = ufunc(array1, array2)\n",
    "\n",
    "print(\"Array 1:\", array1)\n",
    "print(\"Array 2:\", array2)\n",
    "print(\"\\nAddition using zip():\", result_zip)\n",
    "print(\"Addition using np.add():\", result_np_add)\n",
    "print(\"Addition using user-defined function:\", result_user_defined)"
   ]
  },
  {
   "cell_type": "markdown",
   "metadata": {},
   "source": [
    "Q5. Find the LCM (Least Common Multiple) and GCD (Greatest Common Divisor) of an array of elements using reduce().\n"
   ]
  },
  {
   "cell_type": "code",
   "execution_count": 31,
   "metadata": {},
   "outputs": [
    {
     "name": "stdout",
     "output_type": "stream",
     "text": [
      "Array of Elements: [12, 18, 24, 36, 48]\n",
      "GCD of Elements: 6\n",
      "LCM of Elements: 144\n"
     ]
    }
   ],
   "source": [
    "from functools import reduce\n",
    "import math\n",
    "\n",
    "def gcd(a, b):\n",
    "    while b:\n",
    "        a, b = b, a % b\n",
    "    return a\n",
    "\n",
    "def lcm(a, b):\n",
    "    return a * b // gcd(a, b)\n",
    "\n",
    "elements = [12, 18, 24, 36, 48]\n",
    "\n",
    "gcd_result = reduce(gcd, elements)\n",
    "\n",
    "lcm_result = reduce(lcm, elements)\n",
    "\n",
    "print(\"Array of Elements:\", elements)\n",
    "print(\"GCD of Elements:\", gcd_result)\n",
    "print(\"LCM of Elements:\", lcm_result)"
   ]
  }
 ],
 "metadata": {
  "kernelspec": {
   "display_name": "Python 3",
   "language": "python",
   "name": "python3"
  },
  "language_info": {
   "codemirror_mode": {
    "name": "ipython",
    "version": 3
   },
   "file_extension": ".py",
   "mimetype": "text/x-python",
   "name": "python",
   "nbconvert_exporter": "python",
   "pygments_lexer": "ipython3",
   "version": "3.11.5"
  },
  "orig_nbformat": 4
 },
 "nbformat": 4,
 "nbformat_minor": 2
}
